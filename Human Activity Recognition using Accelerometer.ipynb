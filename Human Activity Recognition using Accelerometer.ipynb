{
 "cells": [
  {
   "cell_type": "markdown",
   "metadata": {},
   "source": [
    "## Submitted by: Rahul Aggarwal\n",
    "### For Prithvi AI Internship Assessment.\n",
    "### Date of Submission: 12th May 2020"
   ]
  },
  {
   "cell_type": "markdown",
   "metadata": {},
   "source": [
    "#### Importing Libraries"
   ]
  },
  {
   "cell_type": "code",
   "execution_count": 2,
   "metadata": {},
   "outputs": [
    {
     "name": "stderr",
     "output_type": "stream",
     "text": [
      "c:\\users\\rahul\\appdata\\local\\programs\\python\\python36\\lib\\site-packages\\tensorflow\\python\\framework\\dtypes.py:519: FutureWarning: Passing (type, 1) or '1type' as a synonym of type is deprecated; in a future version of numpy, it will be understood as (type, (1,)) / '(1,)type'.\n",
      "  _np_qint8 = np.dtype([(\"qint8\", np.int8, 1)])\n",
      "c:\\users\\rahul\\appdata\\local\\programs\\python\\python36\\lib\\site-packages\\tensorflow\\python\\framework\\dtypes.py:520: FutureWarning: Passing (type, 1) or '1type' as a synonym of type is deprecated; in a future version of numpy, it will be understood as (type, (1,)) / '(1,)type'.\n",
      "  _np_quint8 = np.dtype([(\"quint8\", np.uint8, 1)])\n",
      "c:\\users\\rahul\\appdata\\local\\programs\\python\\python36\\lib\\site-packages\\tensorflow\\python\\framework\\dtypes.py:521: FutureWarning: Passing (type, 1) or '1type' as a synonym of type is deprecated; in a future version of numpy, it will be understood as (type, (1,)) / '(1,)type'.\n",
      "  _np_qint16 = np.dtype([(\"qint16\", np.int16, 1)])\n",
      "c:\\users\\rahul\\appdata\\local\\programs\\python\\python36\\lib\\site-packages\\tensorflow\\python\\framework\\dtypes.py:522: FutureWarning: Passing (type, 1) or '1type' as a synonym of type is deprecated; in a future version of numpy, it will be understood as (type, (1,)) / '(1,)type'.\n",
      "  _np_quint16 = np.dtype([(\"quint16\", np.uint16, 1)])\n",
      "c:\\users\\rahul\\appdata\\local\\programs\\python\\python36\\lib\\site-packages\\tensorflow\\python\\framework\\dtypes.py:523: FutureWarning: Passing (type, 1) or '1type' as a synonym of type is deprecated; in a future version of numpy, it will be understood as (type, (1,)) / '(1,)type'.\n",
      "  _np_qint32 = np.dtype([(\"qint32\", np.int32, 1)])\n",
      "c:\\users\\rahul\\appdata\\local\\programs\\python\\python36\\lib\\site-packages\\tensorflow\\python\\framework\\dtypes.py:528: FutureWarning: Passing (type, 1) or '1type' as a synonym of type is deprecated; in a future version of numpy, it will be understood as (type, (1,)) / '(1,)type'.\n",
      "  np_resource = np.dtype([(\"resource\", np.ubyte, 1)])\n",
      "Using TensorFlow backend.\n"
     ]
    }
   ],
   "source": [
    "import tensorflow as tf\n",
    "from tensorflow import keras\n",
    "from keras import Sequential\n",
    "from keras.layers import Flatten, Dense, Dropout, BatchNormalization\n",
    "from keras.layers import Conv2D, MaxPool2D\n",
    "from keras.optimizers import Adam"
   ]
  },
  {
   "cell_type": "code",
   "execution_count": 3,
   "metadata": {},
   "outputs": [],
   "source": [
    "import pandas as pd\n",
    "import numpy as np\n",
    "import matplotlib.pyplot as plt\n",
    "from sklearn.model_selection import train_test_split\n",
    "from sklearn.preprocessing import StandardScaler, LabelEncoder"
   ]
  },
  {
   "cell_type": "markdown",
   "metadata": {},
   "source": [
    "DataSet Link = \"https://bit.ly/2LkegSf\""
   ]
  },
  {
   "cell_type": "markdown",
   "metadata": {},
   "source": [
    "#### Loading Dataset"
   ]
  },
  {
   "cell_type": "code",
   "execution_count": 5,
   "metadata": {},
   "outputs": [],
   "source": [
    "list_of_lists = []\n",
    "\n",
    "with open('data_1600_accel_phone.txt') as f:\n",
    "    for line in f:\n",
    "        inner_list = [line.strip() for line in line.split(',')]\n",
    "        list_of_lists.append(inner_list)"
   ]
  },
  {
   "cell_type": "code",
   "execution_count": 6,
   "metadata": {},
   "outputs": [],
   "source": [
    "columns = ['user','activity','timestamp','x','y','z']"
   ]
  },
  {
   "cell_type": "code",
   "execution_count": 7,
   "metadata": {},
   "outputs": [
    {
     "name": "stdout",
     "output_type": "stream",
     "text": [
      "   user activity        timestamp            x          y           z\n",
      "0  1600        A  252207666810782  -0.36476135   8.793503   1.0550842\n",
      "1  1600        A  252207717164786   -0.8797302   9.768784   1.0169983\n",
      "2  1600        A  252207767518790    2.0014954   11.10907    2.619156\n",
      "3  1600        A  252207817872794   0.45062256  12.651642  0.18455505\n",
      "4  1600        A  252207868226798   -2.1643524  13.928436  -4.4224854\n"
     ]
    }
   ],
   "source": [
    "df = pd.DataFrame(list_of_lists, columns = columns)\n",
    "\n",
    "df['z'] = df['z'].str.replace(';','')\n",
    "print(df.head())"
   ]
  },
  {
   "cell_type": "code",
   "execution_count": 8,
   "metadata": {},
   "outputs": [
    {
     "name": "stdout",
     "output_type": "stream",
     "text": [
      "<class 'pandas.core.frame.DataFrame'>\n",
      "RangeIndex: 64311 entries, 0 to 64310\n",
      "Data columns (total 6 columns):\n",
      "user         64311 non-null object\n",
      "activity     64311 non-null object\n",
      "timestamp    64311 non-null object\n",
      "x            64311 non-null object\n",
      "y            64311 non-null object\n",
      "z            64311 non-null object\n",
      "dtypes: object(6)\n",
      "memory usage: 2.9+ MB\n"
     ]
    }
   ],
   "source": [
    "df.info()  #Checking the types of columns"
   ]
  },
  {
   "cell_type": "code",
   "execution_count": 9,
   "metadata": {},
   "outputs": [
    {
     "data": {
      "text/plain": [
       "user         0\n",
       "activity     0\n",
       "timestamp    0\n",
       "x            0\n",
       "y            0\n",
       "z            0\n",
       "dtype: int64"
      ]
     },
     "execution_count": 9,
     "metadata": {},
     "output_type": "execute_result"
    }
   ],
   "source": [
    "df.isnull().sum() # If any columns is having null value"
   ]
  },
  {
   "cell_type": "code",
   "execution_count": 9,
   "metadata": {},
   "outputs": [
    {
     "data": {
      "text/plain": [
       "L    3576\n",
       "A    3574\n",
       "P    3574\n",
       "J    3573\n",
       "K    3573\n",
       "M    3573\n",
       "Q    3573\n",
       "G    3573\n",
       "R    3573\n",
       "F    3573\n",
       "C    3573\n",
       "S    3572\n",
       "D    3572\n",
       "O    3572\n",
       "B    3572\n",
       "H    3572\n",
       "E    3572\n",
       "I    3571\n",
       "Name: activity, dtype: int64"
      ]
     },
     "execution_count": 9,
     "metadata": {},
     "output_type": "execute_result"
    }
   ],
   "source": [
    "df['activity'].value_counts() # Value count of each Activity\n",
    "\n",
    "# Note : These alphabets refers to different activities, see pdf attached for better understanding"
   ]
  },
  {
   "cell_type": "markdown",
   "metadata": {},
   "source": [
    "#### Balanced Data"
   ]
  },
  {
   "cell_type": "code",
   "execution_count": 10,
   "metadata": {},
   "outputs": [],
   "source": [
    "df['x'] = df['x'].astype('float')\n",
    "df['y'] = df['y'].astype('float')\n",
    "df['z'] = df['z'].astype('float')"
   ]
  },
  {
   "cell_type": "code",
   "execution_count": 11,
   "metadata": {},
   "outputs": [
    {
     "name": "stdout",
     "output_type": "stream",
     "text": [
      "<class 'pandas.core.frame.DataFrame'>\n",
      "RangeIndex: 64311 entries, 0 to 64310\n",
      "Data columns (total 6 columns):\n",
      "user         64311 non-null object\n",
      "activity     64311 non-null object\n",
      "timestamp    64311 non-null object\n",
      "x            64311 non-null float64\n",
      "y            64311 non-null float64\n",
      "z            64311 non-null float64\n",
      "dtypes: float64(3), object(3)\n",
      "memory usage: 2.9+ MB\n"
     ]
    }
   ],
   "source": [
    "df.info()"
   ]
  },
  {
   "cell_type": "code",
   "execution_count": 12,
   "metadata": {},
   "outputs": [
    {
     "data": {
      "text/html": [
       "<div>\n",
       "<style scoped>\n",
       "    .dataframe tbody tr th:only-of-type {\n",
       "        vertical-align: middle;\n",
       "    }\n",
       "\n",
       "    .dataframe tbody tr th {\n",
       "        vertical-align: top;\n",
       "    }\n",
       "\n",
       "    .dataframe thead th {\n",
       "        text-align: right;\n",
       "    }\n",
       "</style>\n",
       "<table border=\"1\" class=\"dataframe\">\n",
       "  <thead>\n",
       "    <tr style=\"text-align: right;\">\n",
       "      <th></th>\n",
       "      <th>activity</th>\n",
       "      <th>x</th>\n",
       "      <th>y</th>\n",
       "      <th>z</th>\n",
       "    </tr>\n",
       "  </thead>\n",
       "  <tbody>\n",
       "    <tr>\n",
       "      <th>64306</th>\n",
       "      <td>S</td>\n",
       "      <td>-2.372223</td>\n",
       "      <td>9.242722</td>\n",
       "      <td>-1.588287</td>\n",
       "    </tr>\n",
       "    <tr>\n",
       "      <th>64307</th>\n",
       "      <td>S</td>\n",
       "      <td>-2.046921</td>\n",
       "      <td>10.032288</td>\n",
       "      <td>-1.229935</td>\n",
       "    </tr>\n",
       "    <tr>\n",
       "      <th>64308</th>\n",
       "      <td>S</td>\n",
       "      <td>-1.393539</td>\n",
       "      <td>9.883896</td>\n",
       "      <td>-0.479248</td>\n",
       "    </tr>\n",
       "    <tr>\n",
       "      <th>64309</th>\n",
       "      <td>S</td>\n",
       "      <td>-1.230454</td>\n",
       "      <td>9.315079</td>\n",
       "      <td>-0.155701</td>\n",
       "    </tr>\n",
       "    <tr>\n",
       "      <th>64310</th>\n",
       "      <td>S</td>\n",
       "      <td>-2.154221</td>\n",
       "      <td>9.777359</td>\n",
       "      <td>-0.624542</td>\n",
       "    </tr>\n",
       "  </tbody>\n",
       "</table>\n",
       "</div>"
      ],
      "text/plain": [
       "      activity         x          y         z\n",
       "64306        S -2.372223   9.242722 -1.588287\n",
       "64307        S -2.046921  10.032288 -1.229935\n",
       "64308        S -1.393539   9.883896 -0.479248\n",
       "64309        S -1.230454   9.315079 -0.155701\n",
       "64310        S -2.154221   9.777359 -0.624542"
      ]
     },
     "execution_count": 12,
     "metadata": {},
     "output_type": "execute_result"
    }
   ],
   "source": [
    "df = df.drop(['user','timestamp'], axis = 1) #Removing unwanted columns\n",
    "df.tail()"
   ]
  },
  {
   "cell_type": "markdown",
   "metadata": {},
   "source": [
    "#### Converting letters to actual activity names in the data"
   ]
  },
  {
   "cell_type": "code",
   "execution_count": 13,
   "metadata": {},
   "outputs": [],
   "source": [
    "df['activity'] = df['activity'].str.replace('A','Walking')\n",
    "df['activity'] = df['activity'].str.replace('B','Jogging')\n",
    "df['activity'] = df['activity'].str.replace('C','Stairs')\n",
    "df['activity'] = df['activity'].str.replace('D','Sitting')\n",
    "df['activity'] = df['activity'].str.replace('E','Standing')\n",
    "df['activity'] = df['activity'].str.replace('F','Typing')\n",
    "df['activity'] = df['activity'].str.replace('G','Brushing Teeth')\n",
    "df['activity'] = df['activity'].str.replace('H','Eating Soup')\n",
    "df['activity'] = df['activity'].str.replace('I','Eating Chips')\n",
    "df['activity'] = df['activity'].str.replace('J','Eating Pasta')\n",
    "df['activity'] = df['activity'].str.replace('K','Drinking from cup')\n",
    "df['activity'] = df['activity'].str.replace('L','Eating Sandwich')\n",
    "df['activity'] = df['activity'].str.replace('M','Kicking')\n",
    "df['activity'] = df['activity'].str.replace('O','Playing Catch')\n",
    "df['activity'] = df['activity'].str.replace('P','Dribbling')\n",
    "df['activity'] = df['activity'].str.replace('Q','Writing')\n",
    "df['activity'] = df['activity'].str.replace('R','Clapping')\n",
    "df['activity'] = df['activity'].str.replace('S','Folding Cloth')"
   ]
  },
  {
   "cell_type": "markdown",
   "metadata": {},
   "source": [
    "#### Getting equal number of samples for each activity"
   ]
  },
  {
   "cell_type": "code",
   "execution_count": 14,
   "metadata": {},
   "outputs": [],
   "source": [
    "Walking = df[df['activity'] == 'Walking'].head(3571).copy()\n",
    "Jogging = df[df['activity'] == 'Jogging'].head(3571).copy()\n",
    "Stairs = df[df['activity'] == 'Stairs'].head(3571).copy()\n",
    "Sitting = df[df['activity'] == 'Sitting'].head(3571).copy()\n",
    "Standing = df[df['activity'] == 'Standing'].head(3571).copy()\n",
    "Typing = df[df['activity'] == 'Typing'].head(3571).copy()\n",
    "Brushing_Teeth = df[df['activity'] == 'Brushing Teeth'].head(3571).copy()\n",
    "Eating_Soup = df[df['activity'] == 'Eating Soup'].head(3571).copy()\n",
    "Eating_Chips = df[df['activity'] == 'Eating Chips'].head(3571).copy()\n",
    "Eating_Pasta = df[df['activity'] == 'Eating Pasta'].head(3571).copy()\n",
    "Drinking_from_cup = df[df['activity'] == 'Drinking from cup'].head(3571).copy()\n",
    "Eating_Sandwich = df[df['activity'] == 'Eating Sandwich'].head(3571).copy()\n",
    "Kicking = df[df['activity'] == 'Kicking'].head(3571).copy()\n",
    "Playing_Catch = df[df['activity'] == 'Playing Catch'].head(3571).copy()\n",
    "Dribbling = df[df['activity'] == 'Dribbling'].head(3571).copy()\n",
    "Writing = df[df['activity'] == 'Writing'].head(3571).copy()\n",
    "Clapping = df[df['activity'] == 'Clapping'].head(3571).copy()\n",
    "Folding_Cloth = df[df['activity'] == 'Folding Cloth'].head(3571).copy()\n",
    "\n"
   ]
  },
  {
   "cell_type": "code",
   "execution_count": 15,
   "metadata": {},
   "outputs": [],
   "source": [
    "balanced_data = pd.DataFrame()\n",
    "balanced_data = balanced_data.append([Walking,Jogging,Stairs,Sitting,Standing,Typing,Brushing_Teeth,Eating_Soup,Eating_Chips,\n",
    "                                      Eating_Pasta,Drinking_from_cup, Eating_Sandwich,Kicking,Playing_Catch,Dribbling,\n",
    "                                      Writing,Clapping,Folding_Cloth])"
   ]
  },
  {
   "cell_type": "code",
   "execution_count": 16,
   "metadata": {},
   "outputs": [
    {
     "data": {
      "text/plain": [
       "(35710, 4)"
      ]
     },
     "execution_count": 16,
     "metadata": {},
     "output_type": "execute_result"
    }
   ],
   "source": [
    "balanced_data.shape"
   ]
  },
  {
   "cell_type": "code",
   "execution_count": 18,
   "metadata": {},
   "outputs": [
    {
     "data": {
      "text/plain": [
       "Brushing Teeth       3571\n",
       "Writing              3571\n",
       "Kicking              3571\n",
       "Folding Cloth        3571\n",
       "Drinking from cup    3571\n",
       "Clapping             3571\n",
       "Eating Chips         3571\n",
       "Walking              3571\n",
       "Dribbling            3571\n",
       "Typing               3571\n",
       "Name: activity, dtype: int64"
      ]
     },
     "execution_count": 18,
     "metadata": {},
     "output_type": "execute_result"
    }
   ],
   "source": [
    "balanced_data['activity'].value_counts()"
   ]
  },
  {
   "cell_type": "code",
   "execution_count": 17,
   "metadata": {},
   "outputs": [
    {
     "data": {
      "text/html": [
       "<div>\n",
       "<style scoped>\n",
       "    .dataframe tbody tr th:only-of-type {\n",
       "        vertical-align: middle;\n",
       "    }\n",
       "\n",
       "    .dataframe tbody tr th {\n",
       "        vertical-align: top;\n",
       "    }\n",
       "\n",
       "    .dataframe thead th {\n",
       "        text-align: right;\n",
       "    }\n",
       "</style>\n",
       "<table border=\"1\" class=\"dataframe\">\n",
       "  <thead>\n",
       "    <tr style=\"text-align: right;\">\n",
       "      <th></th>\n",
       "      <th>activity</th>\n",
       "      <th>x</th>\n",
       "      <th>y</th>\n",
       "      <th>z</th>\n",
       "    </tr>\n",
       "  </thead>\n",
       "  <tbody>\n",
       "    <tr>\n",
       "      <th>0</th>\n",
       "      <td>Walking</td>\n",
       "      <td>-0.364761</td>\n",
       "      <td>8.793503</td>\n",
       "      <td>1.055084</td>\n",
       "    </tr>\n",
       "    <tr>\n",
       "      <th>1</th>\n",
       "      <td>Walking</td>\n",
       "      <td>-0.879730</td>\n",
       "      <td>9.768784</td>\n",
       "      <td>1.016998</td>\n",
       "    </tr>\n",
       "    <tr>\n",
       "      <th>2</th>\n",
       "      <td>Walking</td>\n",
       "      <td>2.001495</td>\n",
       "      <td>11.109070</td>\n",
       "      <td>2.619156</td>\n",
       "    </tr>\n",
       "    <tr>\n",
       "      <th>3</th>\n",
       "      <td>Walking</td>\n",
       "      <td>0.450623</td>\n",
       "      <td>12.651642</td>\n",
       "      <td>0.184555</td>\n",
       "    </tr>\n",
       "    <tr>\n",
       "      <th>4</th>\n",
       "      <td>Walking</td>\n",
       "      <td>-2.164352</td>\n",
       "      <td>13.928436</td>\n",
       "      <td>-4.422485</td>\n",
       "    </tr>\n",
       "  </tbody>\n",
       "</table>\n",
       "</div>"
      ],
      "text/plain": [
       "  activity         x          y         z\n",
       "0  Walking -0.364761   8.793503  1.055084\n",
       "1  Walking -0.879730   9.768784  1.016998\n",
       "2  Walking  2.001495  11.109070  2.619156\n",
       "3  Walking  0.450623  12.651642  0.184555\n",
       "4  Walking -2.164352  13.928436 -4.422485"
      ]
     },
     "execution_count": 17,
     "metadata": {},
     "output_type": "execute_result"
    }
   ],
   "source": [
    "balanced_data.head()"
   ]
  },
  {
   "cell_type": "markdown",
   "metadata": {},
   "source": [
    "#### Preprocessing with Label Encoder"
   ]
  },
  {
   "cell_type": "code",
   "execution_count": 18,
   "metadata": {},
   "outputs": [],
   "source": [
    "label = LabelEncoder()"
   ]
  },
  {
   "cell_type": "code",
   "execution_count": 19,
   "metadata": {},
   "outputs": [],
   "source": [
    "balanced_data['label'] = label.fit_transform(balanced_data['activity'])"
   ]
  },
  {
   "cell_type": "code",
   "execution_count": 20,
   "metadata": {},
   "outputs": [
    {
     "data": {
      "text/plain": [
       "array(['Brushing Teeth', 'Clapping', 'Dribbling', 'Drinking from cup',\n",
       "       'Eating Chips', 'Folding Cloth', 'Kicking', 'Typing', 'Walking',\n",
       "       'Writing'], dtype=object)"
      ]
     },
     "execution_count": 20,
     "metadata": {},
     "output_type": "execute_result"
    }
   ],
   "source": [
    "label.classes_"
   ]
  },
  {
   "cell_type": "markdown",
   "metadata": {},
   "source": [
    "#### Standardize Data"
   ]
  },
  {
   "cell_type": "code",
   "execution_count": 22,
   "metadata": {},
   "outputs": [],
   "source": [
    "X = balanced_data[['x','y','z']]\n",
    "Y = balanced_data['label']"
   ]
  },
  {
   "cell_type": "code",
   "execution_count": 23,
   "metadata": {},
   "outputs": [],
   "source": [
    "scaler = StandardScaler()"
   ]
  },
  {
   "cell_type": "code",
   "execution_count": 26,
   "metadata": {},
   "outputs": [
    {
     "name": "stdout",
     "output_type": "stream",
     "text": [
      "(35710, 3)\n"
     ]
    },
    {
     "data": {
      "text/html": [
       "<div>\n",
       "<style scoped>\n",
       "    .dataframe tbody tr th:only-of-type {\n",
       "        vertical-align: middle;\n",
       "    }\n",
       "\n",
       "    .dataframe tbody tr th {\n",
       "        vertical-align: top;\n",
       "    }\n",
       "\n",
       "    .dataframe thead th {\n",
       "        text-align: right;\n",
       "    }\n",
       "</style>\n",
       "<table border=\"1\" class=\"dataframe\">\n",
       "  <thead>\n",
       "    <tr style=\"text-align: right;\">\n",
       "      <th></th>\n",
       "      <th>x</th>\n",
       "      <th>y</th>\n",
       "      <th>z</th>\n",
       "      <th>label</th>\n",
       "    </tr>\n",
       "  </thead>\n",
       "  <tbody>\n",
       "    <tr>\n",
       "      <th>0</th>\n",
       "      <td>-0.347516</td>\n",
       "      <td>0.326339</td>\n",
       "      <td>-0.596406</td>\n",
       "      <td>8</td>\n",
       "    </tr>\n",
       "    <tr>\n",
       "      <th>1</th>\n",
       "      <td>-0.520656</td>\n",
       "      <td>0.748341</td>\n",
       "      <td>-0.609677</td>\n",
       "      <td>8</td>\n",
       "    </tr>\n",
       "    <tr>\n",
       "      <th>2</th>\n",
       "      <td>0.448054</td>\n",
       "      <td>1.328279</td>\n",
       "      <td>-0.051396</td>\n",
       "      <td>8</td>\n",
       "    </tr>\n",
       "    <tr>\n",
       "      <th>3</th>\n",
       "      <td>-0.073372</td>\n",
       "      <td>1.995746</td>\n",
       "      <td>-0.899747</td>\n",
       "      <td>8</td>\n",
       "    </tr>\n",
       "    <tr>\n",
       "      <th>4</th>\n",
       "      <td>-0.952564</td>\n",
       "      <td>2.548212</td>\n",
       "      <td>-2.505098</td>\n",
       "      <td>8</td>\n",
       "    </tr>\n",
       "    <tr>\n",
       "      <th>5</th>\n",
       "      <td>-1.681620</td>\n",
       "      <td>2.302766</td>\n",
       "      <td>-1.214552</td>\n",
       "      <td>8</td>\n",
       "    </tr>\n",
       "    <tr>\n",
       "      <th>6</th>\n",
       "      <td>-0.332279</td>\n",
       "      <td>2.284233</td>\n",
       "      <td>-1.044907</td>\n",
       "      <td>8</td>\n",
       "    </tr>\n",
       "    <tr>\n",
       "      <th>7</th>\n",
       "      <td>0.301786</td>\n",
       "      <td>0.638647</td>\n",
       "      <td>-0.970251</td>\n",
       "      <td>8</td>\n",
       "    </tr>\n",
       "    <tr>\n",
       "      <th>8</th>\n",
       "      <td>-0.333726</td>\n",
       "      <td>-1.201446</td>\n",
       "      <td>-0.851735</td>\n",
       "      <td>8</td>\n",
       "    </tr>\n",
       "    <tr>\n",
       "      <th>9</th>\n",
       "      <td>-0.833989</td>\n",
       "      <td>-1.873060</td>\n",
       "      <td>-0.485302</td>\n",
       "      <td>8</td>\n",
       "    </tr>\n",
       "    <tr>\n",
       "      <th>10</th>\n",
       "      <td>-0.606161</td>\n",
       "      <td>-1.514891</td>\n",
       "      <td>-0.163463</td>\n",
       "      <td>8</td>\n",
       "    </tr>\n",
       "    <tr>\n",
       "      <th>11</th>\n",
       "      <td>-0.193640</td>\n",
       "      <td>-0.576875</td>\n",
       "      <td>-0.302120</td>\n",
       "      <td>8</td>\n",
       "    </tr>\n",
       "    <tr>\n",
       "      <th>12</th>\n",
       "      <td>-0.573302</td>\n",
       "      <td>3.276679</td>\n",
       "      <td>-0.043601</td>\n",
       "      <td>8</td>\n",
       "    </tr>\n",
       "    <tr>\n",
       "      <th>13</th>\n",
       "      <td>0.028058</td>\n",
       "      <td>0.711096</td>\n",
       "      <td>0.081615</td>\n",
       "      <td>8</td>\n",
       "    </tr>\n",
       "    <tr>\n",
       "      <th>14</th>\n",
       "      <td>-0.391969</td>\n",
       "      <td>4.602700</td>\n",
       "      <td>-0.637422</td>\n",
       "      <td>8</td>\n",
       "    </tr>\n",
       "    <tr>\n",
       "      <th>15</th>\n",
       "      <td>-1.018133</td>\n",
       "      <td>0.956918</td>\n",
       "      <td>-1.574152</td>\n",
       "      <td>8</td>\n",
       "    </tr>\n",
       "    <tr>\n",
       "      <th>16</th>\n",
       "      <td>-0.029816</td>\n",
       "      <td>-0.195360</td>\n",
       "      <td>-0.809369</td>\n",
       "      <td>8</td>\n",
       "    </tr>\n",
       "    <tr>\n",
       "      <th>17</th>\n",
       "      <td>-1.170373</td>\n",
       "      <td>0.475402</td>\n",
       "      <td>-1.121015</td>\n",
       "      <td>8</td>\n",
       "    </tr>\n",
       "    <tr>\n",
       "      <th>18</th>\n",
       "      <td>-0.858773</td>\n",
       "      <td>0.020632</td>\n",
       "      <td>-0.668760</td>\n",
       "      <td>8</td>\n",
       "    </tr>\n",
       "    <tr>\n",
       "      <th>19</th>\n",
       "      <td>0.074132</td>\n",
       "      <td>-1.517611</td>\n",
       "      <td>-1.043838</td>\n",
       "      <td>8</td>\n",
       "    </tr>\n",
       "    <tr>\n",
       "      <th>20</th>\n",
       "      <td>-0.223256</td>\n",
       "      <td>-0.355621</td>\n",
       "      <td>-0.843100</td>\n",
       "      <td>8</td>\n",
       "    </tr>\n",
       "    <tr>\n",
       "      <th>21</th>\n",
       "      <td>-0.359890</td>\n",
       "      <td>0.337187</td>\n",
       "      <td>-0.761765</td>\n",
       "      <td>8</td>\n",
       "    </tr>\n",
       "    <tr>\n",
       "      <th>22</th>\n",
       "      <td>-0.686069</td>\n",
       "      <td>1.629582</td>\n",
       "      <td>-0.063184</td>\n",
       "      <td>8</td>\n",
       "    </tr>\n",
       "    <tr>\n",
       "      <th>23</th>\n",
       "      <td>1.002775</td>\n",
       "      <td>0.968822</td>\n",
       "      <td>0.341027</td>\n",
       "      <td>8</td>\n",
       "    </tr>\n",
       "    <tr>\n",
       "      <th>24</th>\n",
       "      <td>0.330249</td>\n",
       "      <td>2.147847</td>\n",
       "      <td>-1.880657</td>\n",
       "      <td>8</td>\n",
       "    </tr>\n",
       "    <tr>\n",
       "      <th>25</th>\n",
       "      <td>-2.407670</td>\n",
       "      <td>3.073667</td>\n",
       "      <td>-2.426433</td>\n",
       "      <td>8</td>\n",
       "    </tr>\n",
       "    <tr>\n",
       "      <th>26</th>\n",
       "      <td>-1.020139</td>\n",
       "      <td>2.794265</td>\n",
       "      <td>-1.141443</td>\n",
       "      <td>8</td>\n",
       "    </tr>\n",
       "    <tr>\n",
       "      <th>27</th>\n",
       "      <td>-0.033838</td>\n",
       "      <td>1.183640</td>\n",
       "      <td>-1.530080</td>\n",
       "      <td>8</td>\n",
       "    </tr>\n",
       "    <tr>\n",
       "      <th>28</th>\n",
       "      <td>-0.177510</td>\n",
       "      <td>-0.740702</td>\n",
       "      <td>-1.169304</td>\n",
       "      <td>8</td>\n",
       "    </tr>\n",
       "    <tr>\n",
       "      <th>29</th>\n",
       "      <td>-0.983725</td>\n",
       "      <td>-2.317153</td>\n",
       "      <td>-1.117995</td>\n",
       "      <td>8</td>\n",
       "    </tr>\n",
       "    <tr>\n",
       "      <th>...</th>\n",
       "      <td>...</td>\n",
       "      <td>...</td>\n",
       "      <td>...</td>\n",
       "      <td>...</td>\n",
       "    </tr>\n",
       "    <tr>\n",
       "      <th>35680</th>\n",
       "      <td>-0.620264</td>\n",
       "      <td>0.715731</td>\n",
       "      <td>-0.769762</td>\n",
       "      <td>5</td>\n",
       "    </tr>\n",
       "    <tr>\n",
       "      <th>35681</th>\n",
       "      <td>-0.616863</td>\n",
       "      <td>0.703649</td>\n",
       "      <td>-0.760946</td>\n",
       "      <td>5</td>\n",
       "    </tr>\n",
       "    <tr>\n",
       "      <th>35682</th>\n",
       "      <td>-0.646069</td>\n",
       "      <td>0.714608</td>\n",
       "      <td>-0.785107</td>\n",
       "      <td>5</td>\n",
       "    </tr>\n",
       "    <tr>\n",
       "      <th>35683</th>\n",
       "      <td>-0.725926</td>\n",
       "      <td>0.748657</td>\n",
       "      <td>-0.845003</td>\n",
       "      <td>5</td>\n",
       "    </tr>\n",
       "    <tr>\n",
       "      <th>35684</th>\n",
       "      <td>-0.765444</td>\n",
       "      <td>0.721752</td>\n",
       "      <td>-0.857807</td>\n",
       "      <td>5</td>\n",
       "    </tr>\n",
       "    <tr>\n",
       "      <th>35685</th>\n",
       "      <td>-0.790608</td>\n",
       "      <td>0.687367</td>\n",
       "      <td>-0.812187</td>\n",
       "      <td>5</td>\n",
       "    </tr>\n",
       "    <tr>\n",
       "      <th>35686</th>\n",
       "      <td>-0.723120</td>\n",
       "      <td>0.731663</td>\n",
       "      <td>-0.810044</td>\n",
       "      <td>5</td>\n",
       "    </tr>\n",
       "    <tr>\n",
       "      <th>35687</th>\n",
       "      <td>-0.613241</td>\n",
       "      <td>0.720689</td>\n",
       "      <td>-0.736786</td>\n",
       "      <td>5</td>\n",
       "    </tr>\n",
       "    <tr>\n",
       "      <th>35688</th>\n",
       "      <td>-0.560697</td>\n",
       "      <td>0.700123</td>\n",
       "      <td>-0.680511</td>\n",
       "      <td>5</td>\n",
       "    </tr>\n",
       "    <tr>\n",
       "      <th>35689</th>\n",
       "      <td>-0.510405</td>\n",
       "      <td>0.692411</td>\n",
       "      <td>-0.717544</td>\n",
       "      <td>5</td>\n",
       "    </tr>\n",
       "    <tr>\n",
       "      <th>35690</th>\n",
       "      <td>-0.574066</td>\n",
       "      <td>0.719243</td>\n",
       "      <td>-0.774138</td>\n",
       "      <td>5</td>\n",
       "    </tr>\n",
       "    <tr>\n",
       "      <th>35691</th>\n",
       "      <td>-0.604150</td>\n",
       "      <td>0.715909</td>\n",
       "      <td>-0.893409</td>\n",
       "      <td>5</td>\n",
       "    </tr>\n",
       "    <tr>\n",
       "      <th>35692</th>\n",
       "      <td>-0.716840</td>\n",
       "      <td>0.822328</td>\n",
       "      <td>-1.018295</td>\n",
       "      <td>5</td>\n",
       "    </tr>\n",
       "    <tr>\n",
       "      <th>35693</th>\n",
       "      <td>-0.905479</td>\n",
       "      <td>0.830660</td>\n",
       "      <td>-0.930639</td>\n",
       "      <td>5</td>\n",
       "    </tr>\n",
       "    <tr>\n",
       "      <th>35694</th>\n",
       "      <td>-0.782451</td>\n",
       "      <td>0.470424</td>\n",
       "      <td>-0.745102</td>\n",
       "      <td>5</td>\n",
       "    </tr>\n",
       "    <tr>\n",
       "      <th>35695</th>\n",
       "      <td>-0.439075</td>\n",
       "      <td>0.535867</td>\n",
       "      <td>-0.579349</td>\n",
       "      <td>5</td>\n",
       "    </tr>\n",
       "    <tr>\n",
       "      <th>35696</th>\n",
       "      <td>-0.409160</td>\n",
       "      <td>0.676255</td>\n",
       "      <td>-0.587431</td>\n",
       "      <td>5</td>\n",
       "    </tr>\n",
       "    <tr>\n",
       "      <th>35697</th>\n",
       "      <td>-0.510293</td>\n",
       "      <td>0.656600</td>\n",
       "      <td>-0.659333</td>\n",
       "      <td>5</td>\n",
       "    </tr>\n",
       "    <tr>\n",
       "      <th>35698</th>\n",
       "      <td>-0.710576</td>\n",
       "      <td>0.745217</td>\n",
       "      <td>-0.657174</td>\n",
       "      <td>5</td>\n",
       "    </tr>\n",
       "    <tr>\n",
       "      <th>35699</th>\n",
       "      <td>-0.640539</td>\n",
       "      <td>0.762199</td>\n",
       "      <td>-0.737828</td>\n",
       "      <td>5</td>\n",
       "    </tr>\n",
       "    <tr>\n",
       "      <th>35700</th>\n",
       "      <td>-0.738870</td>\n",
       "      <td>0.689215</td>\n",
       "      <td>-0.805445</td>\n",
       "      <td>5</td>\n",
       "    </tr>\n",
       "    <tr>\n",
       "      <th>35701</th>\n",
       "      <td>-0.816921</td>\n",
       "      <td>0.696036</td>\n",
       "      <td>-0.891224</td>\n",
       "      <td>5</td>\n",
       "    </tr>\n",
       "    <tr>\n",
       "      <th>35702</th>\n",
       "      <td>-0.825806</td>\n",
       "      <td>0.690173</td>\n",
       "      <td>-0.906186</td>\n",
       "      <td>5</td>\n",
       "    </tr>\n",
       "    <tr>\n",
       "      <th>35703</th>\n",
       "      <td>-0.765208</td>\n",
       "      <td>0.699060</td>\n",
       "      <td>-0.995475</td>\n",
       "      <td>5</td>\n",
       "    </tr>\n",
       "    <tr>\n",
       "      <th>35704</th>\n",
       "      <td>-0.859399</td>\n",
       "      <td>0.658527</td>\n",
       "      <td>-1.117325</td>\n",
       "      <td>5</td>\n",
       "    </tr>\n",
       "    <tr>\n",
       "      <th>35705</th>\n",
       "      <td>-0.962527</td>\n",
       "      <td>0.723654</td>\n",
       "      <td>-1.265303</td>\n",
       "      <td>5</td>\n",
       "    </tr>\n",
       "    <tr>\n",
       "      <th>35706</th>\n",
       "      <td>-1.022453</td>\n",
       "      <td>0.520715</td>\n",
       "      <td>-1.517505</td>\n",
       "      <td>5</td>\n",
       "    </tr>\n",
       "    <tr>\n",
       "      <th>35707</th>\n",
       "      <td>-0.913082</td>\n",
       "      <td>0.862358</td>\n",
       "      <td>-1.392635</td>\n",
       "      <td>5</td>\n",
       "    </tr>\n",
       "    <tr>\n",
       "      <th>35708</th>\n",
       "      <td>-0.693406</td>\n",
       "      <td>0.798149</td>\n",
       "      <td>-1.131053</td>\n",
       "      <td>5</td>\n",
       "    </tr>\n",
       "    <tr>\n",
       "      <th>35709</th>\n",
       "      <td>-0.638574</td>\n",
       "      <td>0.552024</td>\n",
       "      <td>-1.018311</td>\n",
       "      <td>5</td>\n",
       "    </tr>\n",
       "  </tbody>\n",
       "</table>\n",
       "<p>35710 rows × 4 columns</p>\n",
       "</div>"
      ],
      "text/plain": [
       "              x         y         z  label\n",
       "0     -0.347516  0.326339 -0.596406      8\n",
       "1     -0.520656  0.748341 -0.609677      8\n",
       "2      0.448054  1.328279 -0.051396      8\n",
       "3     -0.073372  1.995746 -0.899747      8\n",
       "4     -0.952564  2.548212 -2.505098      8\n",
       "5     -1.681620  2.302766 -1.214552      8\n",
       "6     -0.332279  2.284233 -1.044907      8\n",
       "7      0.301786  0.638647 -0.970251      8\n",
       "8     -0.333726 -1.201446 -0.851735      8\n",
       "9     -0.833989 -1.873060 -0.485302      8\n",
       "10    -0.606161 -1.514891 -0.163463      8\n",
       "11    -0.193640 -0.576875 -0.302120      8\n",
       "12    -0.573302  3.276679 -0.043601      8\n",
       "13     0.028058  0.711096  0.081615      8\n",
       "14    -0.391969  4.602700 -0.637422      8\n",
       "15    -1.018133  0.956918 -1.574152      8\n",
       "16    -0.029816 -0.195360 -0.809369      8\n",
       "17    -1.170373  0.475402 -1.121015      8\n",
       "18    -0.858773  0.020632 -0.668760      8\n",
       "19     0.074132 -1.517611 -1.043838      8\n",
       "20    -0.223256 -0.355621 -0.843100      8\n",
       "21    -0.359890  0.337187 -0.761765      8\n",
       "22    -0.686069  1.629582 -0.063184      8\n",
       "23     1.002775  0.968822  0.341027      8\n",
       "24     0.330249  2.147847 -1.880657      8\n",
       "25    -2.407670  3.073667 -2.426433      8\n",
       "26    -1.020139  2.794265 -1.141443      8\n",
       "27    -0.033838  1.183640 -1.530080      8\n",
       "28    -0.177510 -0.740702 -1.169304      8\n",
       "29    -0.983725 -2.317153 -1.117995      8\n",
       "...         ...       ...       ...    ...\n",
       "35680 -0.620264  0.715731 -0.769762      5\n",
       "35681 -0.616863  0.703649 -0.760946      5\n",
       "35682 -0.646069  0.714608 -0.785107      5\n",
       "35683 -0.725926  0.748657 -0.845003      5\n",
       "35684 -0.765444  0.721752 -0.857807      5\n",
       "35685 -0.790608  0.687367 -0.812187      5\n",
       "35686 -0.723120  0.731663 -0.810044      5\n",
       "35687 -0.613241  0.720689 -0.736786      5\n",
       "35688 -0.560697  0.700123 -0.680511      5\n",
       "35689 -0.510405  0.692411 -0.717544      5\n",
       "35690 -0.574066  0.719243 -0.774138      5\n",
       "35691 -0.604150  0.715909 -0.893409      5\n",
       "35692 -0.716840  0.822328 -1.018295      5\n",
       "35693 -0.905479  0.830660 -0.930639      5\n",
       "35694 -0.782451  0.470424 -0.745102      5\n",
       "35695 -0.439075  0.535867 -0.579349      5\n",
       "35696 -0.409160  0.676255 -0.587431      5\n",
       "35697 -0.510293  0.656600 -0.659333      5\n",
       "35698 -0.710576  0.745217 -0.657174      5\n",
       "35699 -0.640539  0.762199 -0.737828      5\n",
       "35700 -0.738870  0.689215 -0.805445      5\n",
       "35701 -0.816921  0.696036 -0.891224      5\n",
       "35702 -0.825806  0.690173 -0.906186      5\n",
       "35703 -0.765208  0.699060 -0.995475      5\n",
       "35704 -0.859399  0.658527 -1.117325      5\n",
       "35705 -0.962527  0.723654 -1.265303      5\n",
       "35706 -1.022453  0.520715 -1.517505      5\n",
       "35707 -0.913082  0.862358 -1.392635      5\n",
       "35708 -0.693406  0.798149 -1.131053      5\n",
       "35709 -0.638574  0.552024 -1.018311      5\n",
       "\n",
       "[35710 rows x 4 columns]"
      ]
     },
     "execution_count": 26,
     "metadata": {},
     "output_type": "execute_result"
    }
   ],
   "source": [
    "X = scaler.fit_transform(X)\n",
    "print(X.shape)\n",
    "\n",
    "Scaled_X = pd.DataFrame(data = X, columns = ['x','y','z'])\n",
    "Scaled_X['label'] = Y.values\n",
    "Scaled_X"
   ]
  },
  {
   "cell_type": "markdown",
   "metadata": {},
   "source": [
    "### Frame Preparation\n",
    "#### Taking a bunch of Data instead of single values for training"
   ]
  },
  {
   "cell_type": "code",
   "execution_count": 32,
   "metadata": {},
   "outputs": [],
   "source": [
    "import scipy.stats as stats"
   ]
  },
  {
   "cell_type": "code",
   "execution_count": 33,
   "metadata": {},
   "outputs": [],
   "source": [
    "fs = 20\n",
    "frame_size = fs*4  # Number of samples to be taken at once\n",
    "hop_size = fs*2    # After what sample number, next data needs to be taken"
   ]
  },
  {
   "cell_type": "code",
   "execution_count": 43,
   "metadata": {},
   "outputs": [],
   "source": [
    "def get_frames(df, frame_size, hop_size):\n",
    "    \n",
    "    N_features = 3\n",
    "    \n",
    "    frames = []\n",
    "    labels = []\n",
    "    for i in range(0, len(df) - frame_size, hop_size):  \n",
    "        x = df['x'].values[i:i + frame_size]\n",
    "        y = df['y'].values[i:i + frame_size]\n",
    "        z = df['z'].values[i:i + frame_size]\n",
    "        \n",
    "        label = stats.mode(df['label'][i : i+ frame_size])[0][0]\n",
    "        frames.append([x, y, z])\n",
    "        labels.append(label)\n",
    "        \n",
    "    frames = np.asarray(frames).reshape(-1, frame_size, N_features)\n",
    "    labels = np.asarray(labels)\n",
    "    \n",
    "    return frames,labels"
   ]
  },
  {
   "cell_type": "code",
   "execution_count": 44,
   "metadata": {},
   "outputs": [],
   "source": [
    "X, Y = get_frames(Scaled_X, frame_size, hop_size)"
   ]
  },
  {
   "cell_type": "code",
   "execution_count": 45,
   "metadata": {},
   "outputs": [
    {
     "data": {
      "text/plain": [
       "((891, 80, 3), (891,))"
      ]
     },
     "execution_count": 45,
     "metadata": {},
     "output_type": "execute_result"
    }
   ],
   "source": [
    "X.shape , Y.shape # Shape has changed as we have converted data into  frames now (35710/40 = 891)"
   ]
  },
  {
   "cell_type": "markdown",
   "metadata": {},
   "source": [
    "#### Splitting the Data"
   ]
  },
  {
   "cell_type": "code",
   "execution_count": 46,
   "metadata": {},
   "outputs": [],
   "source": [
    "X_train, X_test , Y_train, Y_test = train_test_split(X, Y, test_size = 0.2, random_state = 0, stratify = Y)"
   ]
  },
  {
   "cell_type": "code",
   "execution_count": 47,
   "metadata": {},
   "outputs": [
    {
     "data": {
      "text/plain": [
       "((712, 80, 3), (179, 80, 3))"
      ]
     },
     "execution_count": 47,
     "metadata": {},
     "output_type": "execute_result"
    }
   ],
   "source": [
    "X_train.shape , X_test.shape"
   ]
  },
  {
   "cell_type": "code",
   "execution_count": 48,
   "metadata": {},
   "outputs": [],
   "source": [
    "# Reshaping for CNN as it takes 3 dimensional data\n",
    "\n",
    "X_train = X_train.reshape(712,80,3,1)\n",
    "X_test = X_test.reshape(179,80,3,1)"
   ]
  },
  {
   "cell_type": "code",
   "execution_count": 49,
   "metadata": {},
   "outputs": [
    {
     "data": {
      "text/plain": [
       "(80, 3, 1)"
      ]
     },
     "execution_count": 49,
     "metadata": {},
     "output_type": "execute_result"
    }
   ],
   "source": [
    "X_train[0].shape"
   ]
  },
  {
   "cell_type": "markdown",
   "metadata": {},
   "source": [
    "#### 2D CNN Model"
   ]
  },
  {
   "cell_type": "code",
   "execution_count": 50,
   "metadata": {},
   "outputs": [],
   "source": [
    "model = Sequential()\n",
    "\n",
    "model.add(Conv2D(16, (2,2), activation = 'relu', input_shape = X_train[0].shape))\n",
    "model.add(Dropout(0.1))\n",
    "\n",
    "model.add(Conv2D(32, (2,2), activation = 'relu'))\n",
    "model.add(Dropout(0.2))\n",
    "\n",
    "model.add(Flatten())\n",
    "\n",
    "model.add(Dense(64, activation = 'relu'))\n",
    "model.add(Dropout(0.5))\n",
    "\n",
    "model.add(Dense(10, activation = 'softmax'))"
   ]
  },
  {
   "cell_type": "code",
   "execution_count": 51,
   "metadata": {},
   "outputs": [],
   "source": [
    "model.compile(optimizer=Adam(), loss = 'sparse_categorical_crossentropy', metrics = ['accuracy'])"
   ]
  },
  {
   "cell_type": "code",
   "execution_count": 52,
   "metadata": {},
   "outputs": [
    {
     "name": "stdout",
     "output_type": "stream",
     "text": [
      "Train on 712 samples, validate on 179 samples\n",
      "Epoch 1/10\n",
      "712/712 [==============================] - 1s 2ms/step - loss: 1.8308 - acc: 0.3020 - val_loss: 1.1706 - val_acc: 0.5531\n",
      "Epoch 2/10\n",
      "712/712 [==============================] - 1s 717us/step - loss: 1.1488 - acc: 0.5716 - val_loss: 0.5023 - val_acc: 0.9050\n",
      "Epoch 3/10\n",
      "712/712 [==============================] - 1s 706us/step - loss: 0.5784 - acc: 0.8258 - val_loss: 0.1767 - val_acc: 0.9665\n",
      "Epoch 4/10\n",
      "712/712 [==============================] - 0s 692us/step - loss: 0.3957 - acc: 0.8610 - val_loss: 0.1299 - val_acc: 0.9721\n",
      "Epoch 5/10\n",
      "712/712 [==============================] - 0s 701us/step - loss: 0.2905 - acc: 0.9045 - val_loss: 0.1110 - val_acc: 0.9665\n",
      "Epoch 6/10\n",
      "712/712 [==============================] - 1s 719us/step - loss: 0.2370 - acc: 0.9115 - val_loss: 0.0994 - val_acc: 0.9721\n",
      "Epoch 7/10\n",
      "712/712 [==============================] - 0s 679us/step - loss: 0.1959 - acc: 0.9284 - val_loss: 0.0653 - val_acc: 0.9777\n",
      "Epoch 8/10\n",
      "712/712 [==============================] - 0s 687us/step - loss: 0.1578 - acc: 0.9466 - val_loss: 0.0530 - val_acc: 0.9832\n",
      "Epoch 9/10\n",
      "712/712 [==============================] - 0s 500us/step - loss: 0.1585 - acc: 0.9522 - val_loss: 0.0816 - val_acc: 0.9721\n",
      "Epoch 10/10\n",
      "712/712 [==============================] - 0s 464us/step - loss: 0.1300 - acc: 0.9522 - val_loss: 0.0968 - val_acc: 0.9721\n"
     ]
    }
   ],
   "source": [
    "result = model.fit(X_train, Y_train, epochs = 10, validation_data = (X_test, Y_test), verbose = 1)"
   ]
  },
  {
   "cell_type": "markdown",
   "metadata": {},
   "source": [
    "#### Confusion Matrix"
   ]
  },
  {
   "cell_type": "code",
   "execution_count": 53,
   "metadata": {},
   "outputs": [],
   "source": [
    "from mlxtend.plotting import plot_confusion_matrix \n",
    "from sklearn.metrics import confusion_matrix"
   ]
  },
  {
   "cell_type": "code",
   "execution_count": 54,
   "metadata": {},
   "outputs": [],
   "source": [
    "y_pred = model.predict_classes(X_test)"
   ]
  },
  {
   "cell_type": "code",
   "execution_count": 55,
   "metadata": {},
   "outputs": [
    {
     "data": {
      "text/plain": [
       "(<Figure size 504x504 with 1 Axes>,\n",
       " <matplotlib.axes._subplots.AxesSubplot at 0x149862fe780>)"
      ]
     },
     "execution_count": 55,
     "metadata": {},
     "output_type": "execute_result"
    },
    {
     "data": {
      "image/png": "[encoded data removed]",
      "text/plain": [
       "<Figure size 504x504 with 1 Axes>"
      ]
     },
     "metadata": {
      "needs_background": "light"
     },
     "output_type": "display_data"
    }
   ],
   "source": [
    "mat = confusion_matrix(Y_test, y_pred)\n",
    "plot_confusion_matrix(conf_mat = mat, class_names = label.classes_, show_normed = True, figsize = (7,7))"
   ]
  },
  {
   "cell_type": "markdown",
   "metadata": {},
   "source": [
    "### Thank you !"
   ]
  }
 ],
 "metadata": {
  "kernelspec": {
   "display_name": "Python 3",
   "language": "python",
   "name": "python3"
  },
  "language_info": {
   "codemirror_mode": {
    "name": "ipython",
    "version": 3
   },
   "file_extension": ".py",
   "mimetype": "text/x-python",
   "name": "python",
   "nbconvert_exporter": "python",
   "pygments_lexer": "ipython3",
   "version": "3.6.5"
  }
 },
 "nbformat": 4,
 "nbformat_minor": 2
}
